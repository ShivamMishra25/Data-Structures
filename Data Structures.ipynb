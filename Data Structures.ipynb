{
 "cells": [
  {
   "cell_type": "markdown",
   "id": "8a3e943e",
   "metadata": {},
   "source": [
    "#### List "
   ]
  },
  {
   "cell_type": "markdown",
   "id": "0b66fd64",
   "metadata": {},
   "source": [
    "Can be hetrogenous"
   ]
  },
  {
   "cell_type": "markdown",
   "id": "3436a10a",
   "metadata": {},
   "source": [
    "indexing from 0"
   ]
  },
  {
   "cell_type": "markdown",
   "id": "21551da3",
   "metadata": {},
   "source": [
    "Mutuable using index"
   ]
  },
  {
   "cell_type": "code",
   "execution_count": 1,
   "id": "bd19a7c3",
   "metadata": {},
   "outputs": [],
   "source": [
    "Sample_List=[28,65,99,1+2j,\"hiiiii\"]"
   ]
  },
  {
   "cell_type": "code",
   "execution_count": 2,
   "id": "5adaa978",
   "metadata": {},
   "outputs": [
    {
     "data": {
      "text/plain": [
       "28"
      ]
     },
     "execution_count": 2,
     "metadata": {},
     "output_type": "execute_result"
    }
   ],
   "source": [
    "Sample_List[0]"
   ]
  },
  {
   "cell_type": "code",
   "execution_count": 4,
   "id": "58c9963d",
   "metadata": {},
   "outputs": [],
   "source": [
    "Sample_List.reverse()\n"
   ]
  },
  {
   "cell_type": "code",
   "execution_count": 5,
   "id": "36c1ca0a",
   "metadata": {},
   "outputs": [
    {
     "data": {
      "text/plain": [
       "['hiiiii', (1+2j), 99, 65, 28]"
      ]
     },
     "execution_count": 5,
     "metadata": {},
     "output_type": "execute_result"
    }
   ],
   "source": [
    "Sample_List"
   ]
  },
  {
   "cell_type": "code",
   "execution_count": 6,
   "id": "e32418c2",
   "metadata": {},
   "outputs": [],
   "source": [
    "Sample_List[0]=22"
   ]
  },
  {
   "cell_type": "code",
   "execution_count": 7,
   "id": "a2b61afa",
   "metadata": {},
   "outputs": [],
   "source": [
    "Sample_List[1]=39"
   ]
  },
  {
   "cell_type": "code",
   "execution_count": 8,
   "id": "1fe9d5b6",
   "metadata": {},
   "outputs": [],
   "source": [
    "Sample_List.sort()"
   ]
  },
  {
   "cell_type": "code",
   "execution_count": 9,
   "id": "4f9dd019",
   "metadata": {},
   "outputs": [
    {
     "data": {
      "text/plain": [
       "[22, 28, 39, 65, 99]"
      ]
     },
     "execution_count": 9,
     "metadata": {},
     "output_type": "execute_result"
    }
   ],
   "source": [
    "Sample_List\n"
   ]
  },
  {
   "cell_type": "code",
   "execution_count": 10,
   "id": "67ec434b",
   "metadata": {},
   "outputs": [],
   "source": [
    "Sample_List.sort(reverse=2)\n"
   ]
  },
  {
   "cell_type": "code",
   "execution_count": 11,
   "id": "80a8bffa",
   "metadata": {},
   "outputs": [
    {
     "data": {
      "text/plain": [
       "[99, 65, 39, 28, 22]"
      ]
     },
     "execution_count": 11,
     "metadata": {},
     "output_type": "execute_result"
    }
   ],
   "source": [
    "Sample_List"
   ]
  },
  {
   "cell_type": "markdown",
   "id": "d1a97d23",
   "metadata": {},
   "source": [
    "## Tuples"
   ]
  },
  {
   "cell_type": "markdown",
   "id": "d135bf8e",
   "metadata": {},
   "source": [
    "1.Allows heteregenous"
   ]
  },
  {
   "cell_type": "markdown",
   "id": "e6baea04",
   "metadata": {},
   "source": [
    "2.Indexing from 0 and retrieve using index"
   ]
  },
  {
   "cell_type": "markdown",
   "id": "fdd6c26a",
   "metadata": {},
   "source": [
    "3.Immutable"
   ]
  },
  {
   "cell_type": "code",
   "execution_count": 12,
   "id": "402b698f",
   "metadata": {},
   "outputs": [],
   "source": [
    "Sample_Tuple=(1,2,3,4,0,1+2j)\n"
   ]
  },
  {
   "cell_type": "code",
   "execution_count": 13,
   "id": "a86e37c8",
   "metadata": {},
   "outputs": [
    {
     "ename": "TypeError",
     "evalue": "'tuple' object is not callable",
     "output_type": "error",
     "traceback": [
      "\u001b[1;31m---------------------------------------------------------------------------\u001b[0m",
      "\u001b[1;31mTypeError\u001b[0m                                 Traceback (most recent call last)",
      "\u001b[1;32mC:\\Users\\SHIVAM~1\\AppData\\Local\\Temp/ipykernel_6680/2228166775.py\u001b[0m in \u001b[0;36m<module>\u001b[1;34m\u001b[0m\n\u001b[1;32m----> 1\u001b[1;33m \u001b[0mSample_Tuple\u001b[0m\u001b[1;33m(\u001b[0m\u001b[1;36m1\u001b[0m\u001b[1;33m)\u001b[0m\u001b[1;33m\u001b[0m\u001b[1;33m\u001b[0m\u001b[0m\n\u001b[0m",
      "\u001b[1;31mTypeError\u001b[0m: 'tuple' object is not callable"
     ]
    }
   ],
   "source": [
    "Sample_Tuple(1)"
   ]
  },
  {
   "cell_type": "code",
   "execution_count": 14,
   "id": "e4fe2856",
   "metadata": {},
   "outputs": [
    {
     "data": {
      "text/plain": [
       "2"
      ]
     },
     "execution_count": 14,
     "metadata": {},
     "output_type": "execute_result"
    }
   ],
   "source": [
    "Sample_Tuple[1]"
   ]
  },
  {
   "cell_type": "code",
   "execution_count": 15,
   "id": "8cda9b79",
   "metadata": {},
   "outputs": [
    {
     "ename": "AttributeError",
     "evalue": "'tuple' object has no attribute 'reverse'",
     "output_type": "error",
     "traceback": [
      "\u001b[1;31m---------------------------------------------------------------------------\u001b[0m",
      "\u001b[1;31mAttributeError\u001b[0m                            Traceback (most recent call last)",
      "\u001b[1;32mC:\\Users\\SHIVAM~1\\AppData\\Local\\Temp/ipykernel_6680/874596120.py\u001b[0m in \u001b[0;36m<module>\u001b[1;34m\u001b[0m\n\u001b[1;32m----> 1\u001b[1;33m \u001b[0mSample_Tuple\u001b[0m\u001b[1;33m.\u001b[0m\u001b[0mreverse\u001b[0m\u001b[1;33m(\u001b[0m\u001b[1;33m)\u001b[0m\u001b[1;33m\u001b[0m\u001b[1;33m\u001b[0m\u001b[0m\n\u001b[0m",
      "\u001b[1;31mAttributeError\u001b[0m: 'tuple' object has no attribute 'reverse'"
     ]
    }
   ],
   "source": [
    "Sample_Tuple.reverse()"
   ]
  },
  {
   "cell_type": "markdown",
   "id": "829ab219",
   "metadata": {},
   "source": [
    "## Sets\n"
   ]
  },
  {
   "cell_type": "code",
   "execution_count": 16,
   "id": "2045439f",
   "metadata": {},
   "outputs": [],
   "source": [
    "Sample_Sets={1,2,8,\"hii\",6,1+2j}"
   ]
  },
  {
   "cell_type": "code",
   "execution_count": 17,
   "id": "ab87b40c",
   "metadata": {},
   "outputs": [
    {
     "ename": "TypeError",
     "evalue": "'set' object is not subscriptable",
     "output_type": "error",
     "traceback": [
      "\u001b[1;31m---------------------------------------------------------------------------\u001b[0m",
      "\u001b[1;31mTypeError\u001b[0m                                 Traceback (most recent call last)",
      "\u001b[1;32mC:\\Users\\SHIVAM~1\\AppData\\Local\\Temp/ipykernel_6680/234017287.py\u001b[0m in \u001b[0;36m<module>\u001b[1;34m\u001b[0m\n\u001b[1;32m----> 1\u001b[1;33m \u001b[0mSample_Sets\u001b[0m\u001b[1;33m[\u001b[0m\u001b[1;36m0\u001b[0m\u001b[1;33m]\u001b[0m\u001b[1;33m\u001b[0m\u001b[1;33m\u001b[0m\u001b[0m\n\u001b[0m",
      "\u001b[1;31mTypeError\u001b[0m: 'set' object is not subscriptable"
     ]
    }
   ],
   "source": [
    "Sample_Sets[0]"
   ]
  },
  {
   "cell_type": "code",
   "execution_count": 18,
   "id": "c06542a9",
   "metadata": {},
   "outputs": [
    {
     "ename": "AttributeError",
     "evalue": "'set' object has no attribute 'append'",
     "output_type": "error",
     "traceback": [
      "\u001b[1;31m---------------------------------------------------------------------------\u001b[0m",
      "\u001b[1;31mAttributeError\u001b[0m                            Traceback (most recent call last)",
      "\u001b[1;32mC:\\Users\\SHIVAM~1\\AppData\\Local\\Temp/ipykernel_6680/3595756793.py\u001b[0m in \u001b[0;36m<module>\u001b[1;34m\u001b[0m\n\u001b[1;32m----> 1\u001b[1;33m \u001b[0mSample_Sets\u001b[0m\u001b[1;33m.\u001b[0m\u001b[0mappend\u001b[0m\u001b[1;33m=\u001b[0m\u001b[1;36m55\u001b[0m\u001b[1;33m\u001b[0m\u001b[1;33m\u001b[0m\u001b[0m\n\u001b[0m",
      "\u001b[1;31mAttributeError\u001b[0m: 'set' object has no attribute 'append'"
     ]
    }
   ],
   "source": [
    "Sample_Sets.append=55\n"
   ]
  },
  {
   "cell_type": "code",
   "execution_count": 19,
   "id": "09cb4590",
   "metadata": {},
   "outputs": [
    {
     "ename": "SyntaxError",
     "evalue": "cannot assign to function call (Temp/ipykernel_6680/3711987277.py, line 1)",
     "output_type": "error",
     "traceback": [
      "\u001b[1;36m  File \u001b[1;32m\"C:\\Users\\SHIVAM~1\\AppData\\Local\\Temp/ipykernel_6680/3711987277.py\"\u001b[1;36m, line \u001b[1;32m1\u001b[0m\n\u001b[1;33m    Sample_Sets.append()=55\u001b[0m\n\u001b[1;37m    ^\u001b[0m\n\u001b[1;31mSyntaxError\u001b[0m\u001b[1;31m:\u001b[0m cannot assign to function call\n"
     ]
    }
   ],
   "source": [
    "Sample_Sets.append()=55"
   ]
  },
  {
   "cell_type": "code",
   "execution_count": 22,
   "id": "b022dc37",
   "metadata": {},
   "outputs": [],
   "source": [
    "Sample_Sets.add(55)\n"
   ]
  },
  {
   "cell_type": "code",
   "execution_count": 21,
   "id": "f04c4cce",
   "metadata": {},
   "outputs": [
    {
     "ename": "AttributeError",
     "evalue": "'set' object attribute 'add' is read-only",
     "output_type": "error",
     "traceback": [
      "\u001b[1;31m---------------------------------------------------------------------------\u001b[0m",
      "\u001b[1;31mAttributeError\u001b[0m                            Traceback (most recent call last)",
      "\u001b[1;32mC:\\Users\\SHIVAM~1\\AppData\\Local\\Temp/ipykernel_6680/4215641353.py\u001b[0m in \u001b[0;36m<module>\u001b[1;34m\u001b[0m\n\u001b[1;32m----> 1\u001b[1;33m \u001b[0mSample_Sets\u001b[0m\u001b[1;33m.\u001b[0m\u001b[0madd\u001b[0m\u001b[1;33m=\u001b[0m\u001b[1;36m55\u001b[0m\u001b[1;33m\u001b[0m\u001b[1;33m\u001b[0m\u001b[0m\n\u001b[0m",
      "\u001b[1;31mAttributeError\u001b[0m: 'set' object attribute 'add' is read-only"
     ]
    }
   ],
   "source": [
    "Sample_Sets.add=55\n"
   ]
  },
  {
   "cell_type": "code",
   "execution_count": 23,
   "id": "f6673243",
   "metadata": {},
   "outputs": [
    {
     "data": {
      "text/plain": [
       "{(1+2j), 1, 2, 55, 6, 8, 'hii'}"
      ]
     },
     "execution_count": 23,
     "metadata": {},
     "output_type": "execute_result"
    }
   ],
   "source": [
    "Sample_Sets"
   ]
  },
  {
   "cell_type": "code",
   "execution_count": 25,
   "id": "ea1c851e",
   "metadata": {},
   "outputs": [],
   "source": [
    "Sample_Sets.remove(55)"
   ]
  },
  {
   "cell_type": "code",
   "execution_count": 26,
   "id": "12c85778",
   "metadata": {},
   "outputs": [
    {
     "data": {
      "text/plain": [
       "{(1+2j), 1, 2, 6, 8, 'hii'}"
      ]
     },
     "execution_count": 26,
     "metadata": {},
     "output_type": "execute_result"
    }
   ],
   "source": [
    "Sample_Sets"
   ]
  },
  {
   "cell_type": "markdown",
   "id": "dc71c907",
   "metadata": {},
   "source": [
    "Sets Rules"
   ]
  },
  {
   "cell_type": "markdown",
   "id": "a97e30bd",
   "metadata": {},
   "source": [
    "1.Heterogeneous"
   ]
  },
  {
   "cell_type": "markdown",
   "id": "4a69269a",
   "metadata": {},
   "source": [
    "2.Mutable with add and remove"
   ]
  },
  {
   "cell_type": "markdown",
   "id": "17c35399",
   "metadata": {},
   "source": [
    "3 No indexing"
   ]
  },
  {
   "cell_type": "markdown",
   "id": "82869acd",
   "metadata": {},
   "source": [
    "4.Duplication not allowed"
   ]
  },
  {
   "cell_type": "code",
   "execution_count": 28,
   "id": "0e9b5490",
   "metadata": {},
   "outputs": [],
   "source": [
    "Sample_Dict = {\"a\" : \"Alpha\",1 : \"One\", 2 : \"two\", 3 : \"Three\"}"
   ]
  },
  {
   "cell_type": "code",
   "execution_count": 29,
   "id": "96f1fce9",
   "metadata": {},
   "outputs": [
    {
     "data": {
      "text/plain": [
       "{'a': 'Alpha', 1: 'One', 2: 'two', 3: 'Three'}"
      ]
     },
     "execution_count": 29,
     "metadata": {},
     "output_type": "execute_result"
    }
   ],
   "source": [
    "Sample_Dict\n"
   ]
  },
  {
   "cell_type": "code",
   "execution_count": 31,
   "id": "916bcd84",
   "metadata": {},
   "outputs": [
    {
     "data": {
      "text/plain": [
       "'Alpha'"
      ]
     },
     "execution_count": 31,
     "metadata": {},
     "output_type": "execute_result"
    }
   ],
   "source": [
    "Sample_Dict[\"a\"]"
   ]
  },
  {
   "cell_type": "code",
   "execution_count": 32,
   "id": "66e0c72b",
   "metadata": {},
   "outputs": [
    {
     "ename": "SyntaxError",
     "evalue": "invalid syntax (Temp/ipykernel_6680/2925411259.py, line 1)",
     "output_type": "error",
     "traceback": [
      "\u001b[1;36m  File \u001b[1;32m\"C:\\Users\\SHIVAM~1\\AppData\\Local\\Temp/ipykernel_6680/2925411259.py\"\u001b[1;36m, line \u001b[1;32m1\u001b[0m\n\u001b[1;33m    Sample_Dict.add(\"5 : \"five\")\u001b[0m\n\u001b[1;37m                          ^\u001b[0m\n\u001b[1;31mSyntaxError\u001b[0m\u001b[1;31m:\u001b[0m invalid syntax\n"
     ]
    }
   ],
   "source": [
    "Sample_Dict.add(\"5 : \"five\")\n",
    "                "
   ]
  },
  {
   "cell_type": "code",
   "execution_count": 33,
   "id": "b8739a67",
   "metadata": {},
   "outputs": [],
   "source": [
    "Sample_Dict[5]=\"five\"\n"
   ]
  },
  {
   "cell_type": "code",
   "execution_count": 34,
   "id": "5fe25bd0",
   "metadata": {},
   "outputs": [
    {
     "data": {
      "text/plain": [
       "{'a': 'Alpha', 1: 'One', 2: 'two', 3: 'Three', 5: 'five'}"
      ]
     },
     "execution_count": 34,
     "metadata": {},
     "output_type": "execute_result"
    }
   ],
   "source": [
    "Sample_Dict"
   ]
  },
  {
   "cell_type": "markdown",
   "id": "1a41be4f",
   "metadata": {},
   "source": [
    "### Dictionary"
   ]
  },
  {
   "cell_type": "markdown",
   "id": "d275ce2d",
   "metadata": {},
   "source": [
    "1.Dictionary has key value pair type data structure"
   ]
  },
  {
   "cell_type": "markdown",
   "id": "3c8463dc",
   "metadata": {},
   "source": [
    "2.key is unique and values can be duplicated"
   ]
  },
  {
   "cell_type": "markdown",
   "id": "96833095",
   "metadata": {},
   "source": [
    "3.can retrieve and change the value using key\n"
   ]
  },
  {
   "cell_type": "markdown",
   "id": "31435b47",
   "metadata": {},
   "source": [
    "4.Key is immutable"
   ]
  },
  {
   "cell_type": "code",
   "execution_count": null,
   "id": "314e8215",
   "metadata": {},
   "outputs": [],
   "source": []
  }
 ],
 "metadata": {
  "kernelspec": {
   "display_name": "Python 3 (ipykernel)",
   "language": "python",
   "name": "python3"
  },
  "language_info": {
   "codemirror_mode": {
    "name": "ipython",
    "version": 3
   },
   "file_extension": ".py",
   "mimetype": "text/x-python",
   "name": "python",
   "nbconvert_exporter": "python",
   "pygments_lexer": "ipython3",
   "version": "3.9.7"
  }
 },
 "nbformat": 4,
 "nbformat_minor": 5
}
